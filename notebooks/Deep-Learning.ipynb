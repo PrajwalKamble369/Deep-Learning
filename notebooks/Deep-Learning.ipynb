{
 "cells": [
  {
   "cell_type": "markdown",
   "id": "67880970-0f28-4b2c-96ce-fa7799f4af69",
   "metadata": {
    "jp-MarkdownHeadingCollapsed": true
   },
   "source": [
    "## **Deep Learning**\n",
    "- Deep learning is a type of machine learning that uses artificial neural networks with multiple layers to learn from and make decisions about data.\n",
    "- It enables computers to process complex information by identifying patterns and building a deeper understanding, mimicking how the human brain works.\n",
    "- This allows for tasks like image recognition, natural language processing, and autonomous driving\n",
    "\n",
    "### **How it works**\n",
    "- Artificial Neural Networks: Deep learning is based on artificial neural networks, which are inspired by the structure of the human brain. These networks consist of an input layer, multiple \"hidden\" layers for processing, and an output layer. \n",
    "- Learning through layers: Data is fed into the input layer, and subsequent layers process and transform the data. Each layer learns to recognize increasingly complex features. For example, in image recognition, an early layer might identify edges, while a later layer identifies a whole object like a \"stop sign\". \n",
    "- Learning from data: Deep learning systems learn from vast amounts of data, getting better and more accurate over time through iterative processes without explicit human programming for every task. \n",
    "- Handling complex data: It excels at processing unstructured data, such as images, sound, and text, which can be difficult for traditional machine learning algorithms. \n",
    "\n",
    "### **Examples and applications**\n",
    "- Image Recognition: Identifying objects in photos, like brand logos or faces. \n",
    "- Natural Language Processing: Powering virtual assistants like Siri and Google Assistant, enabling language translation, and features like autocomplete. \n",
    "- Autonomous Vehicles: Allowing cars to \"see\" and interpret their surroundings, recognize signs, and navigate. \n",
    "- Speech Recognition: Converting spoken words into text. \n",
    "\n",
    "\n",
    "### **ML vs DL**\n",
    "\n",
    "|         **ML**             |            **DL**                  |\n",
    "|----------------------------|------------------------------------|\n",
    "| ***A subset of AI that uses statistical methods to enables machines to improve with expereince*** |  ***A subeset of ML using neural networks with many layers to learn from data.***|\n",
    "| ***Uses a variety of algorithms to find patterns in data and make decision.*** | ***Automates the process of feature extraction and learns representations from raw data.*** |\n",
    "| ***Typically manual extraction and selection of features.***   | ***Automates feature extraction learns from raw data directly.***  |\n",
    "| ***Handles tasks like regression, classification, clustering and anomoly detection.***  | ***Particularly strong in image and speech recogonition and natural language processing.*** |\n",
    "| ***Often effective with smaller datasets.*** | ***Require large datasets to perform well due to model complexity.*** |\n",
    "| ***It is less computational intensive*** | ***More computationally intensive*** |\n",
    "\n",
    "\n",
    "### ***Note: Data Points = Rows X Columns***\n",
    "- Data Points = 100 to 1000 : Samll Dataset\n",
    "- Data Points = 1000 to 100000 : Big Dataset\n",
    "- In images data we see pixel and quantity"
   ]
  },
  {
   "cell_type": "markdown",
   "id": "5db43b50-8d92-46e0-a4d8-5c5d9101825a",
   "metadata": {},
   "source": [
    "## **Nueral Network**\n",
    "### ***What is a Nueral Network?***\n",
    "- A neural network is a machine learning model inspired by the human brain that learns to process data by using interconnected nodes, or neurons, arranged in layers.\n",
    "- It's a powerful tool for identifying complex patterns in data and can be used for tasks like image recognition and natural language processing.\n",
    "- The network adjusts the strength of the connections between neurons, called weights, during a training process to improve its performance and make better predictions.  \n",
    "\n",
    "\n",
    "### ***How it works?***\n",
    "- Structure: A neural network consists of an input layer, one or more hidden layers, and an output layer. \n",
    "\n",
    "- Neurons: Each neuron receives input from other neurons, processes it, and sends an output to the next layer. \n",
    "\n",
    "- Connections and weights: Connections between neurons have associated weights that determine the strength of the signal being passed. \n",
    "\n",
    "- Training: During training, the network receives input data and adjusts the weights to minimize errors and improve its ability to map the input to the correct output. \n",
    "\n",
    "- Nonlinearity: With multiple layers and the use of activation functions, neural networks can learn complex, nonlinear relationships in data that are difficult for traditional algorithms to find. \n",
    "\n",
    "### ***Key applications***\n",
    "- Image and video recognition: Used for facial recognition, medical image analysis, and in autonomous driving. \n",
    "- Natural language processing: Powers language translation, chatbots, and sentiment analysis. \n",
    "- Healthcare: Helps in diagnosing diseases and personalizing treatment plans. \n",
    "- Finance: Used for fraud detection, stock price prediction, and risk management.\n",
    "\n",
    "***A Nueral Network is a series of algorithms than endeavors (try) to recogonize underlying relationships in a set of data through a process that mimics the way the human brain operates.***\n",
    "\n",
    "***In essence, nueral networks are collection of nodes or nuerons, which are interconnected and work togethe to process and transmit signals.***\n",
    "\n",
    "\n",
    "***These networks are used in machine learning for pattern recognition and decision making, functioning in a way that is similar to human brain's structure and operation.***\n",
    "\n",
    "### ***Components***\n",
    "1) Nuerons:\n",
    "   - Basic unit of nueral networks, analogous to human brain nuerons, which process and tranist information.\n",
    "2) Layers:\n",
    "   - Composed of multiple layers on nuerons: an input layer to receive signals, one or more hidden layers to process the signals, and output layer to deliver the result.\n",
    "3) Weights and Biases:\n",
    "   - Connection between nuerons have weights to adjust as learning proceeds, and nuerons may have a bias term, both of which determibe the strength and direction of the influence one nueron has a another.\n",
    "4) Activation Functions:\n",
    "   - Functions that decide weather a nueron should be activated, influencing the networks ability to learn complex patterns."
   ]
  },
  {
   "cell_type": "code",
   "execution_count": null,
   "id": "9af5001e-5ce6-45c2-9dbd-9637ebcd1948",
   "metadata": {},
   "outputs": [],
   "source": []
  }
 ],
 "metadata": {
  "kernelspec": {
   "display_name": "Python (dl)",
   "language": "python",
   "name": "dl"
  },
  "language_info": {
   "codemirror_mode": {
    "name": "ipython",
    "version": 3
   },
   "file_extension": ".py",
   "mimetype": "text/x-python",
   "name": "python",
   "nbconvert_exporter": "python",
   "pygments_lexer": "ipython3",
   "version": "3.10.0"
  }
 },
 "nbformat": 4,
 "nbformat_minor": 5
}
