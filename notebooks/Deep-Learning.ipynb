{
 "cells": [
  {
   "cell_type": "markdown",
   "id": "67880970-0f28-4b2c-96ce-fa7799f4af69",
   "metadata": {},
   "source": [
    "## **Deep Learning**\n",
    "- Deep learning is a type of machine learning that uses artificial neural networks with multiple layers to learn from and make decisions about data.\n",
    "- It enables computers to process complex information by identifying patterns and building a deeper understanding, mimicking how the human brain works.\n",
    "- This allows for tasks like image recognition, natural language processing, and autonomous driving\n",
    "\n",
    "### **How it works**\n",
    "- Artificial Neural Networks: Deep learning is based on artificial neural networks, which are inspired by the structure of the human brain. These networks consist of an input layer, multiple \"hidden\" layers for processing, and an output layer. \n",
    "- Learning through layers: Data is fed into the input layer, and subsequent layers process and transform the data. Each layer learns to recognize increasingly complex features. For example, in image recognition, an early layer might identify edges, while a later layer identifies a whole object like a \"stop sign\". \n",
    "- Learning from data: Deep learning systems learn from vast amounts of data, getting better and more accurate over time through iterative processes without explicit human programming for every task. \n",
    "- Handling complex data: It excels at processing unstructured data, such as images, sound, and text, which can be difficult for traditional machine learning algorithms. \n",
    "\n",
    "### **Examples and applications**\n",
    "- Image Recognition: Identifying objects in photos, like brand logos or faces. \n",
    "- Natural Language Processing: Powering virtual assistants like Siri and Google Assistant, enabling language translation, and features like autocomplete. \n",
    "- Autonomous Vehicles: Allowing cars to \"see\" and interpret their surroundings, recognize signs, and navigate. \n",
    "- Speech Recognition: Converting spoken words into text. \n",
    "\n",
    "\n",
    "### **ML vs DL**\n",
    "\n",
    "|         **ML**             |            **DL**                  |\n",
    "|----------------------------|------------------------------------|\n",
    "| ***A subset of AI that uses statistical methods to enables machines to improve with expereince*** |  ***A subeset of ML using neural networks with many layers to learn from data.***|\n",
    "| ***Uses a variety of algorithms to find patterns in data and make decision.*** | ***Automates the process of feature extraction and learns representations from raw data.*** |\n",
    "| ***Typically manual extraction and selection of features.***   | ***Automates feature extraction learns from raw data directly.***  |\n",
    "| ***Handles tasks like regression, classification, clustering and anomoly detection.***  | ***Particularly strong in image and speech recogonition and natural language processing.*** |\n",
    "| ***Often effective with smaller datasets.*** | ***Require large datasets to perform well due to model complexity.*** |\n",
    "| ***It is less computational intensive*** | ***More computationally intensive*** |"
   ]
  },
  {
   "cell_type": "code",
   "execution_count": 1,
   "id": "f5cd5c8d-2415-4e63-ac58-0892d8e5cbb1",
   "metadata": {},
   "outputs": [
    {
     "data": {
      "text/plain": [
       "[PhysicalDevice(name='/physical_device:GPU:0', device_type='GPU')]"
      ]
     },
     "execution_count": 1,
     "metadata": {},
     "output_type": "execute_result"
    }
   ],
   "source": [
    "import tensorflow as tf\n",
    "tf.config.list_physical_devices('GPU')\n"
   ]
  },
  {
   "cell_type": "code",
   "execution_count": 4,
   "id": "b3f70623-af90-4331-be12-91d02118462b",
   "metadata": {},
   "outputs": [
    {
     "name": "stdout",
     "output_type": "stream",
     "text": [
      "[1, 2, 3, 4, 5, 6, 7, 8, 9]\n"
     ]
    }
   ],
   "source": [
    "print([i for i in range(1,10)])\n"
   ]
  },
  {
   "cell_type": "code",
   "execution_count": null,
   "id": "48eeb57e",
   "metadata": {},
   "outputs": [],
   "source": []
  }
 ],
 "metadata": {
  "kernelspec": {
   "display_name": "Python (dl)",
   "language": "python",
   "name": "dl"
  },
  "language_info": {
   "codemirror_mode": {
    "name": "ipython",
    "version": 3
   },
   "file_extension": ".py",
   "mimetype": "text/x-python",
   "name": "python",
   "nbconvert_exporter": "python",
   "pygments_lexer": "ipython3",
   "version": "3.10.0"
  }
 },
 "nbformat": 4,
 "nbformat_minor": 5
}
